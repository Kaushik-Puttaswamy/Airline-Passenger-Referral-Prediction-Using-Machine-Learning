{
 "cells": [
  {
   "cell_type": "code",
   "execution_count": 5,
   "id": "7a9aec95-e84a-4186-92c1-2fb4778c2b10",
   "metadata": {},
   "outputs": [],
   "source": [
    "# import Libraries\n",
    "import pandas as pd\n",
    "import numpy as np\n",
    "import matplotlib.pyplot as plt\n",
    "import seaborn as sns\n",
    "import missingno as msno\n",
    "import warnings\n",
    "warnings.filterwarnings('ignore')\n"
   ]
  },
  {
   "cell_type": "code",
   "execution_count": 9,
   "id": "9e7e4465-0a9f-4e03-85a8-34db46c19296",
   "metadata": {},
   "outputs": [],
   "source": [
    "#libraries for model building\n",
    "from sklearn.linear_model import LogisticRegression\n",
    "from sklearn.tree import DecisionTreeClassifier\n",
    "from sklearn.ensemble import RandomForestClassifier\n",
    "from sklearn.neighbors import KNeighborsClassifier\n",
    "from sklearn.naive_bayes import GaussianNB\n",
    "from sklearn.svm import LinearSVC\n",
    "from sklearn.preprocessing import LabelEncoder\n",
    "from statsmodels.stats.outliers_influence import variance_inflation_factor\n",
    "from sklearn import model_selection\n",
    "from sklearn.model_selection import train_test_split\n",
    "from sklearn.model_selection import cross_val_score\n",
    "from sklearn.model_selection import KFold\n",
    "from sklearn.model_selection import GridSearchCV\n"
   ]
  },
  {
   "cell_type": "code",
   "execution_count": 11,
   "id": "81090b6f-a99a-4531-8b3e-dfa902d781ed",
   "metadata": {},
   "outputs": [],
   "source": [
    "#libraries for model evalution\n",
    "from sklearn import metrics\n",
    "from sklearn.metrics import accuracy_score, confusion_matrix, classification_report\n",
    "from sklearn.metrics import recall_score, f1_score, roc_curve, roc_auc_score, precision_score"
   ]
  },
  {
   "cell_type": "markdown",
   "id": "27b4962f-d35e-4373-aa4f-8829b6d655bd",
   "metadata": {},
   "source": [
    "## Dataset Loading"
   ]
  },
  {
   "cell_type": "code",
   "execution_count": null,
   "id": "f5d27398-0d93-4672-a30e-9520280d5f67",
   "metadata": {},
   "outputs": [],
   "source": [
    "#load Dataset\n",
    "airline_df=pd.read_excel(r\"C:\\Users\\UNIQUE\\Desktop\\Code Work 2\\data_airline_reviews.xlsx\")"
   ]
  },
  {
   "cell_type": "code",
   "execution_count": null,
   "id": "cabbaa39-e30e-41ca-a5a4-b656ca27e1aa",
   "metadata": {},
   "outputs": [],
   "source": []
  }
 ],
 "metadata": {
  "kernelspec": {
   "display_name": "Python 3 (ipykernel)",
   "language": "python",
   "name": "python3"
  },
  "language_info": {
   "codemirror_mode": {
    "name": "ipython",
    "version": 3
   },
   "file_extension": ".py",
   "mimetype": "text/x-python",
   "name": "python",
   "nbconvert_exporter": "python",
   "pygments_lexer": "ipython3",
   "version": "3.12.4"
  }
 },
 "nbformat": 4,
 "nbformat_minor": 5
}
